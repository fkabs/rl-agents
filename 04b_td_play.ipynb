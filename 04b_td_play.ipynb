{
 "cells": [
  {
   "cell_type": "code",
   "execution_count": 1,
   "metadata": {},
   "outputs": [],
   "source": [
    "import time\n",
    "\n",
    "from environments import (\n",
    "    WindyGridWorldEnv,\n",
    "    KingWindyGridWorldEnv,\n",
    "    StochasticWindyGridWorldEnv,\n",
    "    CliffWalkingEnv\n",
    ")\n",
    "from agents.temporal_difference import (\n",
    "    Sarsa_Agent,\n",
    "    ExpectedSarsa_Agent,\n",
    "    QLearning_Agent,\n",
    "    DoubleQLearning_Agent\n",
    ")"
   ]
  },
  {
   "cell_type": "code",
   "execution_count": 2,
   "metadata": {},
   "outputs": [],
   "source": [
    "# function for playing until terminal state\n",
    "def play(env, agent, render = False):    \n",
    "    if render:\n",
    "        env.render()\n",
    "\n",
    "    done = False\n",
    "    s = env.reset()\n",
    "    a = agent.get_action(s)\n",
    "\n",
    "    while not done:\n",
    "        t, r, done, _ = env.step(a)\n",
    "        s, a = agent.learn([s, a, r, t], alpha = 0.5, gamma = 1)\n",
    "\n",
    "        if render:\n",
    "            env.render()\n",
    "            time.sleep(0.3)"
   ]
  },
  {
   "cell_type": "code",
   "execution_count": 3,
   "metadata": {},
   "outputs": [],
   "source": [
    "# define environment\n",
    "# env = WindyGridWorldEnv()\n",
    "# env = KingWindyGridWorldEnv()\n",
    "# env = StochasticWindyGridWorldEnv()\n",
    "env = CliffWalkingEnv()"
   ]
  },
  {
   "cell_type": "code",
   "execution_count": 4,
   "metadata": {},
   "outputs": [
    {
     "name": "stdout",
     "output_type": "stream",
     "text": [
      "CPU times: user 2.2 s, sys: 5.68 ms, total: 2.21 s\n",
      "Wall time: 2.2 s\n"
     ]
    }
   ],
   "source": [
    "%%time\n",
    "\n",
    "# train sarsa agent\n",
    "agent_sarsa = Sarsa_Agent(state_space = env.state_space, action_space = env.action_space, epsilon = 0.1)\n",
    "agent_sarsa.is_learning = True\n",
    "\n",
    "for episode in range(1000):\n",
    "    play(env, agent_sarsa)"
   ]
  },
  {
   "cell_type": "code",
   "execution_count": 5,
   "metadata": {},
   "outputs": [
    {
     "data": {
      "application/vnd.jupyter.widget-view+json": {
       "model_id": "d12cba90e91245c3a88e259ec76b07a5",
       "version_major": 2,
       "version_minor": 0
      },
      "text/plain": [
       "Canvas(height=200, width=600)"
      ]
     },
     "metadata": {},
     "output_type": "display_data"
    }
   ],
   "source": [
    "# follow target-policy of sarsa agent\n",
    "agent_sarsa.is_learning = False\n",
    "play(env, agent_sarsa, render = True)"
   ]
  },
  {
   "cell_type": "code",
   "execution_count": 6,
   "metadata": {},
   "outputs": [
    {
     "name": "stdout",
     "output_type": "stream",
     "text": [
      "CPU times: user 2.31 s, sys: 18 ms, total: 2.33 s\n",
      "Wall time: 2.33 s\n"
     ]
    }
   ],
   "source": [
    "%%time\n",
    "\n",
    "# train q-learning agent\n",
    "agent_q = QLearning_Agent(state_space = env.state_space, action_space = env.action_space, epsilon = 0.1)\n",
    "agent_q.is_learning = True\n",
    "\n",
    "for episode in range(1000):\n",
    "    play(env, agent_q)"
   ]
  },
  {
   "cell_type": "code",
   "execution_count": 7,
   "metadata": {},
   "outputs": [
    {
     "data": {
      "application/vnd.jupyter.widget-view+json": {
       "model_id": "dc457711a3c347c2a70cd6c6d8b96fde",
       "version_major": 2,
       "version_minor": 0
      },
      "text/plain": [
       "Canvas(height=200, width=600)"
      ]
     },
     "metadata": {},
     "output_type": "display_data"
    }
   ],
   "source": [
    "# follow target-policy of q-learning agent\n",
    "agent_q.is_learning = False\n",
    "_ = play(env, agent_q, render = True)"
   ]
  },
  {
   "cell_type": "code",
   "execution_count": 8,
   "metadata": {},
   "outputs": [
    {
     "name": "stdout",
     "output_type": "stream",
     "text": [
      "CPU times: user 2.2 s, sys: 6.65 ms, total: 2.21 s\n",
      "Wall time: 2.2 s\n"
     ]
    }
   ],
   "source": [
    "%%time\n",
    "\n",
    "# train expected sarsa agent\n",
    "agent_expected_sarsa = ExpectedSarsa_Agent(state_space = env.state_space, action_space = env.action_space, epsilon = 0.1)\n",
    "agent_expected_sarsa.is_learning = True\n",
    "\n",
    "for episode in range(1000):\n",
    "    play(env, agent_expected_sarsa)"
   ]
  },
  {
   "cell_type": "code",
   "execution_count": 9,
   "metadata": {},
   "outputs": [
    {
     "data": {
      "application/vnd.jupyter.widget-view+json": {
       "model_id": "713c36fbb5584b9593b16542e53beac9",
       "version_major": 2,
       "version_minor": 0
      },
      "text/plain": [
       "Canvas(height=200, width=600)"
      ]
     },
     "metadata": {},
     "output_type": "display_data"
    }
   ],
   "source": [
    "# follow target-policy of expected sarsa agent\n",
    "agent_expected_sarsa.is_learning = False\n",
    "_ = play(env, agent_expected_sarsa, render = True)"
   ]
  },
  {
   "cell_type": "code",
   "execution_count": 10,
   "metadata": {},
   "outputs": [
    {
     "name": "stdout",
     "output_type": "stream",
     "text": [
      "CPU times: user 3.11 s, sys: 0 ns, total: 3.11 s\n",
      "Wall time: 3.11 s\n"
     ]
    }
   ],
   "source": [
    "%%time\n",
    "\n",
    "# train double q-learning agent\n",
    "agent_double_q = DoubleQLearning_Agent(state_space = env.state_space, action_space = env.action_space, epsilon = 0.1)\n",
    "agent_double_q.is_learning = True\n",
    "\n",
    "for episode in range(1000):\n",
    "    play(env, agent_double_q)"
   ]
  },
  {
   "cell_type": "code",
   "execution_count": 11,
   "metadata": {},
   "outputs": [
    {
     "data": {
      "application/vnd.jupyter.widget-view+json": {
       "model_id": "9bcb0d6a1c134b34a5af87c693a97f7f",
       "version_major": 2,
       "version_minor": 0
      },
      "text/plain": [
       "Canvas(height=200, width=600)"
      ]
     },
     "metadata": {},
     "output_type": "display_data"
    }
   ],
   "source": [
    "# follow target-policy of double q-learning agent\n",
    "agent_double_q.is_learning = False\n",
    "_ = play(env, agent_double_q, render = True)"
   ]
  }
 ],
 "metadata": {
  "interpreter": {
   "hash": "8e430b426ffb847b035e400640ae6505dea68303ed72d7a3ff8505c8c258da64"
  },
  "kernelspec": {
   "display_name": "Python 3.9.7 64-bit ('rl': conda)",
   "name": "python3"
  },
  "language_info": {
   "codemirror_mode": {
    "name": "ipython",
    "version": 3
   },
   "file_extension": ".py",
   "mimetype": "text/x-python",
   "name": "python",
   "nbconvert_exporter": "python",
   "pygments_lexer": "ipython3",
   "version": "3.9.7"
  }
 },
 "nbformat": 4,
 "nbformat_minor": 4
}
