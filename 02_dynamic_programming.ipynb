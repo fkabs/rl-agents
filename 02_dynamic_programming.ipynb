{
 "cells": [
  {
   "cell_type": "code",
   "execution_count": 1,
   "metadata": {},
   "outputs": [],
   "source": [
    "import numpy as np\n",
    "\n",
    "import matplotlib.pyplot as plt\n",
    "from matplotlib.table import Table\n",
    "\n",
    "from environments import Gridworld_Lecture, Gridworld_Book\n",
    "from agents.dynamic_programming import Random_Agent"
   ]
  },
  {
   "cell_type": "markdown",
   "metadata": {},
   "source": [
    "-----------------------\n",
    "\n",
    "## Algebraic Solution\n",
    "\n",
    "Let's consider following system of linear equations:\n",
    "\n",
    "\\begin{align}\n",
    "v(S_1) &= 0.5 + 0.5*\\gamma*v(S_2)\\\\\n",
    "v(S_2) &= 0.5*\\gamma*v(S_1) + 0.5*\\gamma*V(S_3)\\\\\n",
    "v(S_3) &= 0.5*\\gamma*v(S_2) - 0.5\n",
    "\\end{align}\n",
    "\n",
    "we can replace $V(S_1)$ with $x$, $V(S_2)$ with $y$ and $V(S_3)$ with $z$ to get following system:\n",
    "\n",
    "\\begin{align}\n",
    "x &= 0.5 + 0.5*\\gamma*y\\\\\n",
    "y &= 0.5*\\gamma*x + 0.5*\\gamma*z\\\\\n",
    "z &= 0.5*\\gamma*y - 0.5\n",
    "\\end{align}\n",
    "\n",
    "After some transformations, we get:\n",
    "\n",
    "\\begin{align}\n",
    "-0.5 &= -1x + 0.5\\gamma y + 0z\\\\\n",
    "0 &= 0.5\\gamma x - 1y + 0.5\\gamma z\\\\\n",
    "0.5 &= 0x + 0.5\\gamma y - 1z\n",
    "\\end{align}\n",
    "\n",
    "which we can input in the matrix $A$ and vector $b$ to solve the system of linear equations:\n",
    "\n",
    "$$\n",
    "A = \\begin{pmatrix} -1 & 0.5\\gamma & 0 \\\\ 0.5\\gamma & -1 & 0.5\\gamma \\\\ 0 & 0.5\\gamma & -1 \\end{pmatrix},\\ b = \\begin{pmatrix} -0.5 \\\\ 0 \\\\ 0.5 \\end{pmatrix}\n",
    "$$\n"
   ]
  },
  {
   "cell_type": "code",
   "execution_count": 2,
   "metadata": {},
   "outputs": [
    {
     "name": "stdout",
     "output_type": "stream",
     "text": [
      "[[-1.    0.45  0.  ]\n",
      " [ 0.45 -1.    0.45]\n",
      " [ 0.    0.45 -1.  ]]\n",
      "\n",
      "[-0.5  0.   0.5]\n"
     ]
    }
   ],
   "source": [
    "# define A and b\n",
    "gamma = 0.9\n",
    "\n",
    "A = np.array([[-1, 0.5*gamma, 0],\n",
    "              [0.5*gamma, -1, 0.5*gamma],\n",
    "              [0, 0.5*gamma, -1]])\n",
    "\n",
    "b = np.array([-0.5, 0, 0.5])\n",
    "\n",
    "print(f'{A}\\n\\n{b}')"
   ]
  },
  {
   "cell_type": "markdown",
   "metadata": {},
   "source": [
    "Given the following matrix vector form:\n",
    "\n",
    "$$\n",
    "\\begin{pmatrix} -1 & 0.5\\gamma & 0 \\\\ 0.5\\gamma & -1 & 0.5\\gamma \\\\ 0 & 0.5\\gamma & -1 \\end{pmatrix} \\begin{pmatrix} x \\\\ y \\\\ z \\end{pmatrix} = \\begin{pmatrix} -0.5 \\\\ 0 \\\\ 0.5 \\end{pmatrix}\n",
    "$$\n",
    "\n",
    "we can than find the solution $s$ with the dot product of the inverse of $A$ and the vector $b$:\n",
    "\n",
    "$$\n",
    "s = A^{-1}\\times b\n",
    "$$\n",
    "\n",
    "or simply put use \"_np.linalg.solve(A,b)_\" which is nothing less and shorter than \"_np.linalg.inv(A).dot(b)_\"."
   ]
  },
  {
   "cell_type": "code",
   "execution_count": 3,
   "metadata": {},
   "outputs": [
    {
     "name": "stdout",
     "output_type": "stream",
     "text": [
      "[ 0.5 -0.  -0.5]\n",
      "\n",
      "v(S1) = 0.5\n",
      "v(S2) = -0.0\n",
      "v(S3) = -0.5\n"
     ]
    }
   ],
   "source": [
    "# solve system of linear equations\n",
    "# solution = np.linalg.inv(A).dot(b)\n",
    "solution = np.linalg.solve(A, b)\n",
    "\n",
    "print(f'{solution}\\n\\nv(S1) = {solution[0]}\\nv(S2) = {solution[1]}\\nv(S3) = {solution[2]}')"
   ]
  },
  {
   "cell_type": "markdown",
   "metadata": {},
   "source": [
    "---\n",
    "\n",
    "## Environments and Random-Agents"
   ]
  },
  {
   "cell_type": "code",
   "execution_count": 4,
   "metadata": {},
   "outputs": [],
   "source": [
    "# 1D: 1x5 world with terminal-states at (0, 0) and (0, 4)\n",
    "env_lecture = Gridworld_Lecture()\n",
    "agent_lecture = Random_Agent(action_space = env_lecture.action_space)\n",
    "\n",
    "# 2D: 4x4 world with terminal-states at (0, 0) and (3, 3) --> see sutton & barto book chapter 4.1\n",
    "env_book = Gridworld_Book()\n",
    "agent_book = Random_Agent(action_space = env_book.action_space)"
   ]
  },
  {
   "cell_type": "code",
   "execution_count": 5,
   "metadata": {},
   "outputs": [],
   "source": [
    "# evaluate policy\n",
    "def policy_eval(env, agent, in_place = True, gamma = 0.9, theta = 1e-4, max_iter = 1000):\n",
    "    new_state_values = np.random.rand(env.rows, env.columns)\n",
    "\n",
    "    for t in env.terminal_states:\n",
    "        new_state_values[t[0], t[1]] = 0\n",
    "\n",
    "    iterations = 0\n",
    "\n",
    "    while iterations < max_iter:\n",
    "        state_values = new_state_values if in_place else new_state_values.copy()\n",
    "        old_state_values = state_values.copy()\n",
    "\n",
    "        for i in range(env.rows):\n",
    "            for j in range(env.columns):\n",
    "                s = [i, j]\n",
    "                value = 0\n",
    "                \n",
    "                for a in env.action_space:\n",
    "                    # take action a at state s and get next state t and reward r\n",
    "                    t, r = env.step(s, a)\n",
    "                    \n",
    "                    # value function: bellman's equation\n",
    "                    value += agent.policy(a, s) * env.p(t, r, s, a) * (r + gamma * state_values[t[0], t[1]])\n",
    "                    \n",
    "                new_state_values[i, j] = value\n",
    "\n",
    "        iterations += 1\n",
    "\n",
    "        # stop policy evaluation if delta lower than theta\n",
    "        if abs(old_state_values - new_state_values).max() < theta:\n",
    "            break\n",
    "        \n",
    "    print(f'Iterations: {iterations}')\n",
    "\n",
    "    return new_state_values"
   ]
  },
  {
   "cell_type": "code",
   "execution_count": 6,
   "metadata": {},
   "outputs": [],
   "source": [
    "# show state values\n",
    "def show_state_values(state_values, decimals = 2):\n",
    "    nrows, ncols = state_values.shape\n",
    "    fig, ax = plt.subplots(figsize = (ncols, nrows))\n",
    "\n",
    "    ax.set_axis_off()\n",
    "\n",
    "    tb = Table(ax)\n",
    "    tb.set_fontsize(14)\n",
    "\n",
    "    width, height = 1 / ncols, 1 / nrows\n",
    "\n",
    "    for (i, j), v in np.ndenumerate(np.round(state_values, decimals = decimals)):\n",
    "        tb.add_cell(i, j, width, height, text = v, loc = 'center', facecolor = 'white')\n",
    "\n",
    "    ax.add_table(tb)"
   ]
  },
  {
   "cell_type": "markdown",
   "metadata": {},
   "source": [
    "---\n",
    "\n",
    "## Iterative Solution - Separate Case"
   ]
  },
  {
   "cell_type": "code",
   "execution_count": 7,
   "metadata": {},
   "outputs": [
    {
     "name": "stdout",
     "output_type": "stream",
     "text": [
      "Iterations: 21\n"
     ]
    },
    {
     "data": {
      "image/png": "[encoded data removed]",
      "text/plain": [
       "<Figure size 360x72 with 1 Axes>"
      ]
     },
     "metadata": {
      "needs_background": "light"
     },
     "output_type": "display_data"
    }
   ],
   "source": [
    "state_values = policy_eval(env = env_lecture, agent = agent_lecture, in_place = False, gamma = 0.9)\n",
    "show_state_values(state_values)"
   ]
  },
  {
   "cell_type": "code",
   "execution_count": 8,
   "metadata": {},
   "outputs": [
    {
     "name": "stdout",
     "output_type": "stream",
     "text": [
      "Iterations: 174\n"
     ]
    },
    {
     "data": {
      "image/png": "[encoded data removed]",
      "text/plain": [
       "<Figure size 288x288 with 1 Axes>"
      ]
     },
     "metadata": {
      "needs_background": "light"
     },
     "output_type": "display_data"
    }
   ],
   "source": [
    "state_values = policy_eval(env = env_book, agent = agent_book, in_place = False, gamma = 1)\n",
    "show_state_values(state_values)"
   ]
  },
  {
   "cell_type": "markdown",
   "metadata": {},
   "source": [
    "---\n",
    "\n",
    "## Iterative Solution - In Place"
   ]
  },
  {
   "cell_type": "code",
   "execution_count": 9,
   "metadata": {
    "tags": []
   },
   "outputs": [
    {
     "name": "stdout",
     "output_type": "stream",
     "text": [
      "Iterations: 12\n"
     ]
    },
    {
     "data": {
      "image/png": "[encoded data removed]",
      "text/plain": [
       "<Figure size 360x72 with 1 Axes>"
      ]
     },
     "metadata": {
      "needs_background": "light"
     },
     "output_type": "display_data"
    }
   ],
   "source": [
    "state_values = policy_eval(env = env_lecture, agent = agent_lecture, in_place = True, gamma = 0.9)\n",
    "show_state_values(state_values)"
   ]
  },
  {
   "cell_type": "code",
   "execution_count": 10,
   "metadata": {},
   "outputs": [
    {
     "name": "stdout",
     "output_type": "stream",
     "text": [
      "Iterations: 115\n"
     ]
    },
    {
     "data": {
      "image/png": "[encoded data removed]",
      "text/plain": [
       "<Figure size 288x288 with 1 Axes>"
      ]
     },
     "metadata": {
      "needs_background": "light"
     },
     "output_type": "display_data"
    }
   ],
   "source": [
    "state_values = policy_eval(env = env_book, agent = agent_book, in_place = True, gamma = 1)\n",
    "show_state_values(state_values)"
   ]
  }
 ],
 "metadata": {
  "interpreter": {
   "hash": "8e430b426ffb847b035e400640ae6505dea68303ed72d7a3ff8505c8c258da64"
  },
  "kernelspec": {
   "display_name": "Python 3.9.7 64-bit ('rl': conda)",
   "name": "python3"
  },
  "language_info": {
   "codemirror_mode": {
    "name": "ipython",
    "version": 3
   },
   "file_extension": ".py",
   "mimetype": "text/x-python",
   "name": "python",
   "nbconvert_exporter": "python",
   "pygments_lexer": "ipython3",
   "version": "3.9.7"
  }
 },
 "nbformat": 4,
 "nbformat_minor": 4
}
