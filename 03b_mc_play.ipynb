{
 "cells": [
  {
   "cell_type": "code",
   "execution_count": 1,
   "metadata": {},
   "outputs": [],
   "source": [
    "import time\n",
    "\n",
    "from environments import GridWorldEnv\n",
    "from agents.monte_carlo import OnPolicy_Agent, OffPolicy_Agent"
   ]
  },
  {
   "cell_type": "code",
   "execution_count": 2,
   "metadata": {},
   "outputs": [],
   "source": [
    "# function for playing until terminal state\n",
    "def play(env, agent, render = False):    \n",
    "    if render:\n",
    "        env.render()\n",
    "\n",
    "    episode = []\n",
    "    done = False\n",
    "    s = env.reset()\n",
    "\n",
    "    while not done:\n",
    "        a = agent.get_action(s)\n",
    "        t, r, done, _ = env.step(a)\n",
    "        \n",
    "        episode.append([s, a, r, t])\n",
    "        s = t\n",
    "\n",
    "        if render:\n",
    "            env.render()\n",
    "            time.sleep(0.3)\n",
    "    else:\n",
    "        return episode"
   ]
  },
  {
   "cell_type": "code",
   "execution_count": 3,
   "metadata": {},
   "outputs": [],
   "source": [
    "# define environment\n",
    "env = GridWorldEnv()"
   ]
  },
  {
   "cell_type": "code",
   "execution_count": 4,
   "metadata": {},
   "outputs": [
    {
     "name": "stdout",
     "output_type": "stream",
     "text": [
      "CPU times: user 3.83 s, sys: 9.76 ms, total: 3.84 s\n",
      "Wall time: 3.82 s\n"
     ]
    }
   ],
   "source": [
    "%%time\n",
    "\n",
    "# train first-visit on-policy agent\n",
    "agent_onp = OnPolicy_Agent(state_space = env.state_space, action_space = env.action_space, epsilon = 0.1, first_visit = True)\n",
    "agent_onp.is_learning = True\n",
    "\n",
    "for episode in range(10000):\n",
    "    episode = play(env, agent_onp)\n",
    "    agent_onp.learn(episode)"
   ]
  },
  {
   "cell_type": "code",
   "execution_count": 5,
   "metadata": {},
   "outputs": [
    {
     "data": {
      "application/vnd.jupyter.widget-view+json": {
       "model_id": "e47f80d5d53242e4bf82628b4e9fa725",
       "version_major": 2,
       "version_minor": 0
      },
      "text/plain": [
       "Canvas(height=300, width=300)"
      ]
     },
     "metadata": {},
     "output_type": "display_data"
    }
   ],
   "source": [
    "# follow optimal policy of first-visit on-policy agent\n",
    "agent_onp.is_learning = False\n",
    "_ = play(env, agent_onp, render = True)"
   ]
  },
  {
   "cell_type": "code",
   "execution_count": 6,
   "metadata": {},
   "outputs": [
    {
     "name": "stdout",
     "output_type": "stream",
     "text": [
      "CPU times: user 34.3 s, sys: 109 ms, total: 34.4 s\n",
      "Wall time: 34.3 s\n"
     ]
    }
   ],
   "source": [
    "%%time\n",
    "\n",
    "# train off-policy agent\n",
    "agent_offp = OffPolicy_Agent(state_space = env.state_space, action_space = env.action_space, epsilon = 0, first_visit = False)\n",
    "agent_offp.is_learning = True\n",
    "\n",
    "for episode in range(10000):\n",
    "    episode = play(env, agent_offp)\n",
    "    agent_offp.learn(episode)"
   ]
  },
  {
   "cell_type": "code",
   "execution_count": 7,
   "metadata": {},
   "outputs": [
    {
     "data": {
      "application/vnd.jupyter.widget-view+json": {
       "model_id": "f7bdf7dd8b0846b58ff5a14a0c4bfa33",
       "version_major": 2,
       "version_minor": 0
      },
      "text/plain": [
       "Canvas(height=300, width=300)"
      ]
     },
     "metadata": {},
     "output_type": "display_data"
    }
   ],
   "source": [
    "# follow optimal policy of off-policy agent\n",
    "agent_offp.is_learning = False\n",
    "_ = play(env, agent_offp, render = True)"
   ]
  }
 ],
 "metadata": {
  "interpreter": {
   "hash": "8e430b426ffb847b035e400640ae6505dea68303ed72d7a3ff8505c8c258da64"
  },
  "kernelspec": {
   "display_name": "Python 3.9.7 64-bit ('rl': conda)",
   "name": "python3"
  },
  "language_info": {
   "codemirror_mode": {
    "name": "ipython",
    "version": 3
   },
   "file_extension": ".py",
   "mimetype": "text/x-python",
   "name": "python",
   "nbconvert_exporter": "python",
   "pygments_lexer": "ipython3",
   "version": "3.9.7"
  }
 },
 "nbformat": 4,
 "nbformat_minor": 4
}
